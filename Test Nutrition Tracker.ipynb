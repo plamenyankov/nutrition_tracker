{
 "cells": [
  {
   "cell_type": "code",
   "execution_count": 1,
   "id": "06bc1e88",
   "metadata": {},
   "outputs": [],
   "source": [
    "import pandas as pd\n",
    "import plotly.express as px"
   ]
  },
  {
   "cell_type": "code",
   "execution_count": 24,
   "id": "cb1e0ed3",
   "metadata": {},
   "outputs": [
    {
     "data": {
      "text/html": [
       "<div>\n",
       "<style scoped>\n",
       "    .dataframe tbody tr th:only-of-type {\n",
       "        vertical-align: middle;\n",
       "    }\n",
       "\n",
       "    .dataframe tbody tr th {\n",
       "        vertical-align: top;\n",
       "    }\n",
       "\n",
       "    .dataframe thead th {\n",
       "        text-align: right;\n",
       "    }\n",
       "</style>\n",
       "<table border=\"1\" class=\"dataframe\">\n",
       "  <thead>\n",
       "    <tr style=\"text-align: right;\">\n",
       "      <th></th>\n",
       "      <th>qty</th>\n",
       "      <th>unit</th>\n",
       "      <th>ingr</th>\n",
       "      <th>carbs</th>\n",
       "      <th>fats</th>\n",
       "      <th>protein</th>\n",
       "      <th>kcal</th>\n",
       "      <th>date</th>\n",
       "    </tr>\n",
       "  </thead>\n",
       "  <tbody>\n",
       "    <tr>\n",
       "      <th>0</th>\n",
       "      <td>1</td>\n",
       "      <td>large</td>\n",
       "      <td>banana</td>\n",
       "      <td>27.0</td>\n",
       "      <td>0.4</td>\n",
       "      <td>1.3</td>\n",
       "      <td>121</td>\n",
       "      <td>25.10.2023</td>\n",
       "    </tr>\n",
       "    <tr>\n",
       "      <th>1</th>\n",
       "      <td>1</td>\n",
       "      <td>large</td>\n",
       "      <td>banana</td>\n",
       "      <td>27.0</td>\n",
       "      <td>0.4</td>\n",
       "      <td>1.3</td>\n",
       "      <td>121</td>\n",
       "      <td>25.10.2023</td>\n",
       "    </tr>\n",
       "    <tr>\n",
       "      <th>2</th>\n",
       "      <td>100</td>\n",
       "      <td>gr</td>\n",
       "      <td>oats</td>\n",
       "      <td>66.0</td>\n",
       "      <td>8.0</td>\n",
       "      <td>17.0</td>\n",
       "      <td>389</td>\n",
       "      <td>25.10.2023</td>\n",
       "    </tr>\n",
       "    <tr>\n",
       "      <th>3</th>\n",
       "      <td>1</td>\n",
       "      <td>large</td>\n",
       "      <td>banana</td>\n",
       "      <td>27.0</td>\n",
       "      <td>0.4</td>\n",
       "      <td>1.3</td>\n",
       "      <td>121</td>\n",
       "      <td>24.10.2023</td>\n",
       "    </tr>\n",
       "    <tr>\n",
       "      <th>4</th>\n",
       "      <td>1</td>\n",
       "      <td>large</td>\n",
       "      <td>banana</td>\n",
       "      <td>27.0</td>\n",
       "      <td>0.4</td>\n",
       "      <td>1.3</td>\n",
       "      <td>121</td>\n",
       "      <td>24.10.2023</td>\n",
       "    </tr>\n",
       "    <tr>\n",
       "      <th>5</th>\n",
       "      <td>100</td>\n",
       "      <td>gr</td>\n",
       "      <td>oats</td>\n",
       "      <td>66.0</td>\n",
       "      <td>8.0</td>\n",
       "      <td>17.0</td>\n",
       "      <td>289</td>\n",
       "      <td>24.10.2023</td>\n",
       "    </tr>\n",
       "    <tr>\n",
       "      <th>6</th>\n",
       "      <td>1</td>\n",
       "      <td>large</td>\n",
       "      <td>banana</td>\n",
       "      <td>27.0</td>\n",
       "      <td>0.4</td>\n",
       "      <td>1.3</td>\n",
       "      <td>121</td>\n",
       "      <td>23.10.2023</td>\n",
       "    </tr>\n",
       "    <tr>\n",
       "      <th>7</th>\n",
       "      <td>1</td>\n",
       "      <td>large</td>\n",
       "      <td>banana</td>\n",
       "      <td>27.0</td>\n",
       "      <td>0.4</td>\n",
       "      <td>1.3</td>\n",
       "      <td>121</td>\n",
       "      <td>23.10.2023</td>\n",
       "    </tr>\n",
       "    <tr>\n",
       "      <th>8</th>\n",
       "      <td>100</td>\n",
       "      <td>gr</td>\n",
       "      <td>oats</td>\n",
       "      <td>66.0</td>\n",
       "      <td>8.0</td>\n",
       "      <td>17.0</td>\n",
       "      <td>589</td>\n",
       "      <td>23.10.2023</td>\n",
       "    </tr>\n",
       "  </tbody>\n",
       "</table>\n",
       "</div>"
      ],
      "text/plain": [
       "   qty    unit     ingr  carbs  fats  protein  kcal        date\n",
       "0    1   large   banana   27.0   0.4      1.3   121  25.10.2023\n",
       "1    1   large   banana   27.0   0.4      1.3   121  25.10.2023\n",
       "2  100      gr     oats   66.0   8.0     17.0   389  25.10.2023\n",
       "3    1   large   banana   27.0   0.4      1.3   121  24.10.2023\n",
       "4    1   large   banana   27.0   0.4      1.3   121  24.10.2023\n",
       "5  100      gr     oats   66.0   8.0     17.0   289  24.10.2023\n",
       "6    1   large   banana   27.0   0.4      1.3   121  23.10.2023\n",
       "7    1   large   banana   27.0   0.4      1.3   121  23.10.2023\n",
       "8  100      gr     oats   66.0   8.0     17.0   589  23.10.2023"
      ]
     },
     "execution_count": 24,
     "metadata": {},
     "output_type": "execute_result"
    }
   ],
   "source": [
    "df = pd.read_csv('data.csv')\n",
    "df"
   ]
  },
  {
   "cell_type": "code",
   "execution_count": 32,
   "id": "6351e213",
   "metadata": {},
   "outputs": [],
   "source": [
    "grouped_data = df.groupby('date').agg({\n",
    "    'kcal': 'sum',\n",
    "    'protein': 'sum',\n",
    "    'fats': 'sum',\n",
    "    'carbs': 'sum'\n",
    "}).reset_index()\n",
    "\n",
    "dates = grouped_data['date'].tolist()\n",
    "kcals = grouped_data['kcal'].tolist()\n",
    "proteins = grouped_data['protein'].apply(lambda x: x*4).tolist()\n",
    "fats = grouped_data['fats'].apply(lambda x: x*9.1).tolist()\n",
    "carbs = grouped_data['carbs'].apply(lambda x: x*4).tolist()"
   ]
  },
  {
   "cell_type": "code",
   "execution_count": 34,
   "id": "788bce86",
   "metadata": {},
   "outputs": [
    {
     "data": {
      "text/plain": [
       "[831, 531, 631]"
      ]
     },
     "execution_count": 34,
     "metadata": {},
     "output_type": "execute_result"
    }
   ],
   "source": [
    "kcals"
   ]
  },
  {
   "cell_type": "code",
   "execution_count": 35,
   "id": "72852b06",
   "metadata": {},
   "outputs": [
    {
     "data": {
      "text/html": [
       "<div>\n",
       "<style scoped>\n",
       "    .dataframe tbody tr th:only-of-type {\n",
       "        vertical-align: middle;\n",
       "    }\n",
       "\n",
       "    .dataframe tbody tr th {\n",
       "        vertical-align: top;\n",
       "    }\n",
       "\n",
       "    .dataframe thead th {\n",
       "        text-align: right;\n",
       "    }\n",
       "</style>\n",
       "<table border=\"1\" class=\"dataframe\">\n",
       "  <thead>\n",
       "    <tr style=\"text-align: right;\">\n",
       "      <th></th>\n",
       "      <th>date</th>\n",
       "      <th>kcal</th>\n",
       "    </tr>\n",
       "  </thead>\n",
       "  <tbody>\n",
       "    <tr>\n",
       "      <th>0</th>\n",
       "      <td>23.10.2023</td>\n",
       "      <td>1174</td>\n",
       "    </tr>\n",
       "    <tr>\n",
       "      <th>1</th>\n",
       "      <td>24.10.2023</td>\n",
       "      <td>700</td>\n",
       "    </tr>\n",
       "    <tr>\n",
       "      <th>2</th>\n",
       "      <td>25.10.2023</td>\n",
       "      <td>800</td>\n",
       "    </tr>\n",
       "  </tbody>\n",
       "</table>\n",
       "</div>"
      ],
      "text/plain": [
       "         date  kcal\n",
       "0  23.10.2023  1174\n",
       "1  24.10.2023   700\n",
       "2  25.10.2023   800"
      ]
     },
     "execution_count": 35,
     "metadata": {},
     "output_type": "execute_result"
    }
   ],
   "source": [
    "df2 = pd.read_csv('data/iwatch.csv')\n",
    "df2"
   ]
  },
  {
   "cell_type": "code",
   "execution_count": 36,
   "id": "c03880a9",
   "metadata": {},
   "outputs": [
    {
     "data": {
      "text/plain": [
       "[1174, 700, 800]"
      ]
     },
     "execution_count": 36,
     "metadata": {},
     "output_type": "execute_result"
    }
   ],
   "source": [
    "df2.groupby('date')['kcal'].sum().tolist()"
   ]
  },
  {
   "cell_type": "code",
   "execution_count": 8,
   "id": "5880c65f",
   "metadata": {},
   "outputs": [
    {
     "data": {
      "text/plain": [
       "0.263"
      ]
     },
     "execution_count": 8,
     "metadata": {},
     "output_type": "execute_result"
    }
   ],
   "source": [
    "round(26.3/100,4)"
   ]
  },
  {
   "cell_type": "code",
   "execution_count": 9,
   "id": "c93efd97",
   "metadata": {},
   "outputs": [
    {
     "name": "stdout",
     "output_type": "stream",
     "text": [
      "qty,unit,ingr,carbs,fats,protein,net_carbs,fiber,kcal\n",
      "100,g,pistachios,18,45,20,18,2,557\n"
     ]
    }
   ],
   "source": [
    "def cleanup_csv(api_response):\n",
    "    lines = api_response.strip().split(\"\\n\")\n",
    "    cleaned_lines = []\n",
    "\n",
    "    expected_columns = 9  # Based on the example you provided.\n",
    "\n",
    "    for line in lines:\n",
    "        if len(line.split(\",\")) == expected_columns:\n",
    "            cleaned_lines.append(line)\n",
    "\n",
    "    return \"\\n\".join(cleaned_lines)\n",
    "\n",
    "api_response = \"\"\"100g pistachios\n",
    "qty,unit,ingr,carbs,fats,protein,net_carbs,fiber,kcal\n",
    "100,g,pistachios,18,45,20,18,2,557\"\"\"\n",
    "\n",
    "cleaned_response = cleanup_csv(api_response)\n",
    "print(cleaned_response)\n"
   ]
  },
  {
   "cell_type": "code",
   "execution_count": 12,
   "id": "d8694bd4",
   "metadata": {},
   "outputs": [
    {
     "data": {
      "text/html": [
       "<div>\n",
       "<style scoped>\n",
       "    .dataframe tbody tr th:only-of-type {\n",
       "        vertical-align: middle;\n",
       "    }\n",
       "\n",
       "    .dataframe tbody tr th {\n",
       "        vertical-align: top;\n",
       "    }\n",
       "\n",
       "    .dataframe thead th {\n",
       "        text-align: right;\n",
       "    }\n",
       "</style>\n",
       "<table border=\"1\" class=\"dataframe\">\n",
       "  <thead>\n",
       "    <tr style=\"text-align: right;\">\n",
       "      <th></th>\n",
       "      <th>qty</th>\n",
       "      <th>unit</th>\n",
       "      <th>ingr</th>\n",
       "      <th>carbs</th>\n",
       "      <th>fats</th>\n",
       "      <th>protein</th>\n",
       "      <th>net_carbs</th>\n",
       "      <th>fiber</th>\n",
       "      <th>kcal</th>\n",
       "    </tr>\n",
       "  </thead>\n",
       "  <tbody>\n",
       "    <tr>\n",
       "      <th>0</th>\n",
       "      <td>1</td>\n",
       "      <td>g</td>\n",
       "      <td>d</td>\n",
       "      <td>21</td>\n",
       "      <td>21</td>\n",
       "      <td>21</td>\n",
       "      <td>21</td>\n",
       "      <td>2</td>\n",
       "      <td>124</td>\n",
       "    </tr>\n",
       "  </tbody>\n",
       "</table>\n",
       "</div>"
      ],
      "text/plain": [
       "   qty unit ingr  carbs fats  protein  net_carbs  fiber  kcal\n",
       "0    1    g    d     21   21       21         21      2   124"
      ]
     },
     "execution_count": 12,
     "metadata": {},
     "output_type": "execute_result"
    }
   ],
   "source": [
    "import pandas as pd\n",
    "ingredient_obj = {\n",
    "    \"qty\":1,\n",
    "    \"unit\":\"g\",\n",
    "    \"ingr\":\"d\",\n",
    "    \"carbs\":21,\n",
    "    \"fats\":\"21\",\n",
    "    \"protein\":21,\n",
    "    \"net_carbs\":21,\n",
    "    \"fiber\":2,\n",
    "    \"kcal\":124\n",
    "}\n",
    "pd.DataFrame([ingredient_obj])"
   ]
  },
  {
   "cell_type": "code",
   "execution_count": null,
   "id": "759b8bff",
   "metadata": {},
   "outputs": [],
   "source": []
  }
 ],
 "metadata": {
  "kernelspec": {
   "display_name": "Python 3 (ipykernel)",
   "language": "python",
   "name": "python3"
  },
  "language_info": {
   "codemirror_mode": {
    "name": "ipython",
    "version": 3
   },
   "file_extension": ".py",
   "mimetype": "text/x-python",
   "name": "python",
   "nbconvert_exporter": "python",
   "pygments_lexer": "ipython3",
   "version": "3.10.6"
  }
 },
 "nbformat": 4,
 "nbformat_minor": 5
}
